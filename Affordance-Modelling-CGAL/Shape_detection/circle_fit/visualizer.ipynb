{
 "cells": [
  {
   "cell_type": "code",
   "execution_count": 2,
   "metadata": {},
   "outputs": [
    {
     "name": "stdout",
     "output_type": "stream",
     "text": [
      "Jupyter environment detected. Enabling Open3D WebVisualizer.\n",
      "[Open3D INFO] WebRTC GUI backend enabled.\n",
      "[Open3D INFO] WebRTCWindowSystem: HTTP handshake server disabled.\n"
     ]
    }
   ],
   "source": [
    "import open3d as o3d\n",
    "import numpy as np\n",
    "import matplotlib.pyplot as plt\n",
    "import math\n",
    "import subprocess"
   ]
  },
  {
   "cell_type": "code",
   "execution_count": 3,
   "metadata": {},
   "outputs": [],
   "source": [
    "def mesh2PointCloud(mesh):\n",
    "    n_pts = 10000 \n",
    "    pcd = mesh.sample_points_uniformly(n_pts)\n",
    "    return pcd"
   ]
  },
  {
   "cell_type": "markdown",
   "metadata": {},
   "source": [
    "ply creator"
   ]
  },
  {
   "cell_type": "code",
   "execution_count": 4,
   "metadata": {},
   "outputs": [],
   "source": [
    "mesh = o3d.io.read_triangle_mesh(\"/home/navin/CGAL-5.6.1/examples/Shape_detection/cylindrical/Mug.STL\")\n",
    "pcd = mesh2PointCloud(mesh)\n",
    "o3d.io.write_point_cloud(\"mug.ply\", pcd)\n",
    "o3d.visualization.draw_geometries([pcd])"
   ]
  },
  {
   "cell_type": "markdown",
   "metadata": {},
   "source": [
    "pwn creator"
   ]
  },
  {
   "cell_type": "code",
   "execution_count": 5,
   "metadata": {},
   "outputs": [],
   "source": [
    "points = np.asarray(pcd.points)\n",
    "normals = np.asarray(pcd.normals)\n",
    "combined_data = np.hstack((points, normals))\n",
    "\n",
    "output_filename = \"mug.xyz\"\n",
    "np.savetxt(output_filename, combined_data, fmt='%.6f', delimiter=' ')"
   ]
  },
  {
   "cell_type": "markdown",
   "metadata": {},
   "source": [
    "CPP Region Growing execution"
   ]
  },
  {
   "cell_type": "code",
   "execution_count": 9,
   "metadata": {},
   "outputs": [
    {
     "name": "stdout",
     "output_type": "stream",
     "text": [
      "* number of input faces: 16162\n",
      "* number of found planes: 40\n"
     ]
    },
    {
     "data": {
      "text/plain": [
       "CompletedProcess(args='/home/navin/CGAL-5.6.1/examples/Shape_detection/mesh_fit/new1', returncode=0)"
      ]
     },
     "execution_count": 9,
     "metadata": {},
     "output_type": "execute_result"
    }
   ],
   "source": [
    "cpp_object_file = \"/home/navin/CGAL-5.6.1/examples/Shape_detection/mesh_fit/new1\"\n",
    "subprocess.run(cpp_object_file)"
   ]
  },
  {
   "cell_type": "markdown",
   "metadata": {},
   "source": [
    "Showing the Segmented PCD"
   ]
  },
  {
   "cell_type": "code",
   "execution_count": 10,
   "metadata": {},
   "outputs": [
    {
     "ename": "IndexError",
     "evalue": "index 0 is out of bounds for axis 0 with size 0",
     "output_type": "error",
     "traceback": [
      "\u001b[0;31m---------------------------------------------------------------------------\u001b[0m",
      "\u001b[0;31mIndexError\u001b[0m                                Traceback (most recent call last)",
      "Cell \u001b[0;32mIn[10], line 14\u001b[0m\n\u001b[1;32m     11\u001b[0m     color_points_np \u001b[38;5;241m=\u001b[39m color_points\n\u001b[1;32m     12\u001b[0m     color_point_map[\u001b[38;5;28mtuple\u001b[39m(color)] \u001b[38;5;241m=\u001b[39m color_points_np\n\u001b[0;32m---> 14\u001b[0m first_color_points \u001b[38;5;241m=\u001b[39m color_point_map[\u001b[38;5;28mtuple\u001b[39m(\u001b[43munique_colors\u001b[49m\u001b[43m[\u001b[49m\u001b[38;5;241;43m0\u001b[39;49m\u001b[43m]\u001b[49m)]\n\u001b[1;32m     15\u001b[0m \u001b[38;5;28mprint\u001b[39m(\u001b[38;5;124m\"\u001b[39m\u001b[38;5;124mPoints belonging to the first color:\u001b[39m\u001b[38;5;124m\"\u001b[39m, first_color_points)\n\u001b[1;32m     16\u001b[0m o3d\u001b[38;5;241m.\u001b[39mvisualization\u001b[38;5;241m.\u001b[39mdraw_geometries([first_color_points])\n",
      "\u001b[0;31mIndexError\u001b[0m: index 0 is out of bounds for axis 0 with size 0"
     ]
    }
   ],
   "source": [
    "point_cloud = o3d.io.read_point_cloud(\"planes_polygon_mesh.ply\")\n",
    "o3d.visualization.draw_geometries([point_cloud])\n",
    "\n",
    "colors = np.asarray(point_cloud.colors)\n",
    "unique_colors = np.unique(colors, axis=0)\n",
    "color_point_map = {}\n",
    "for color in unique_colors:\n",
    "\n",
    "    color_indices = np.where(np.all(colors == color, axis=1))[0]\n",
    "    color_points = point_cloud.select_by_index(color_indices)\n",
    "    color_points_np = color_points\n",
    "    color_point_map[tuple(color)] = color_points_np\n",
    "\n",
    "first_color_points = color_point_map[tuple(unique_colors[0])]\n",
    "print(\"Points belonging to the first color:\", first_color_points)\n",
    "o3d.visualization.draw_geometries([first_color_points])\n"
   ]
  }
 ],
 "metadata": {
  "kernelspec": {
   "display_name": "Python 3",
   "language": "python",
   "name": "python3"
  },
  "language_info": {
   "codemirror_mode": {
    "name": "ipython",
    "version": 3
   },
   "file_extension": ".py",
   "mimetype": "text/x-python",
   "name": "python",
   "nbconvert_exporter": "python",
   "pygments_lexer": "ipython3",
   "version": "3.8.10"
  }
 },
 "nbformat": 4,
 "nbformat_minor": 2
}

{
 "cells": [
  {
   "cell_type": "code",
   "execution_count": 1,
   "metadata": {},
   "outputs": [
    {
     "name": "stdout",
     "output_type": "stream",
     "text": [
      "Jupyter environment detected. Enabling Open3D WebVisualizer.\n",
      "[Open3D INFO] WebRTC GUI backend enabled.\n",
      "[Open3D INFO] WebRTCWindowSystem: HTTP handshake server disabled.\n"
     ]
    }
   ],
   "source": [
    "import open3d as o3d\n",
    "import numpy as np\n",
    "import matplotlib.pyplot as plt\n",
    "import math\n",
    "import subprocess"
   ]
  },
  {
   "cell_type": "code",
   "execution_count": 2,
   "metadata": {},
   "outputs": [],
   "source": [
    "def mesh2PointCloud(mesh):\n",
    "    n_pts = 10000 \n",
    "    pcd = mesh.sample_points_uniformly(n_pts)\n",
    "    return pcd"
   ]
  },
  {
   "cell_type": "markdown",
   "metadata": {},
   "source": [
    "ply creator"
   ]
  },
  {
   "cell_type": "code",
   "execution_count": 3,
   "metadata": {},
   "outputs": [
    {
     "data": {
      "text/plain": [
       "True"
      ]
     },
     "execution_count": 3,
     "metadata": {},
     "output_type": "execute_result"
    }
   ],
   "source": [
    "mesh = o3d.io.read_triangle_mesh(\"/home/navin/CGAL-5.6.1/examples/Shape_detection/cylindrical/Mug.STL\")\n",
    "pcd = mesh2PointCloud(mesh)\n",
    "o3d.io.write_point_cloud(\"mug.ply\", pcd)\n",
    "o3d.visualization.draw_geometries([pcd])\n",
    "o3d.io.write_triangle_mesh(\"output.off\", mesh)"
   ]
  },
  {
   "cell_type": "markdown",
   "metadata": {},
   "source": [
    "pwn creator"
   ]
  },
  {
   "cell_type": "code",
   "execution_count": 5,
   "metadata": {},
   "outputs": [],
   "source": [
    "points = np.asarray(pcd.points)\n",
    "points = points/np.max()\n",
    "normals = np.asarray(pcd.normals)\n",
    "with open(\"mug.xyz\", \"w\") as f:\n",
    "    for point, normal in zip(points, normals):\n",
    "        f.write(f\"{point[0]} {point[1]} {point[2]} {normal[0]} {normal[1]} {normal[2]}\\n\")"
   ]
  },
  {
   "cell_type": "markdown",
   "metadata": {},
   "source": [
    "CPP Region Growing execution"
   ]
  },
  {
   "cell_type": "code",
   "execution_count": 8,
   "metadata": {},
   "outputs": [
    {
     "name": "stdout",
     "output_type": "stream",
     "text": [
      "* number of input faces: 16162\n",
      "* number of found planes: 40\n"
     ]
    },
    {
     "data": {
      "text/plain": [
       "CompletedProcess(args='/home/navin/CGAL-5.6.1/examples/Shape_detection/mesh_fit/new1', returncode=0)"
      ]
     },
     "execution_count": 8,
     "metadata": {},
     "output_type": "execute_result"
    }
   ],
   "source": [
    "cpp_object_file = \"/home/navin/CGAL-5.6.1/examples/Shape_detection/mesh_fit/new1\"\n",
    "subprocess.run(cpp_object_file)"
   ]
  },
  {
   "cell_type": "markdown",
   "metadata": {},
   "source": [
    "Showing the Segmented PCD"
   ]
  },
  {
   "cell_type": "code",
   "execution_count": 9,
   "metadata": {},
   "outputs": [
    {
     "name": "stderr",
     "output_type": "stream",
     "text": [
      "RPly: Error reading 'green' of 'vertex' number 0\n"
     ]
    },
    {
     "name": "stdout",
     "output_type": "stream",
     "text": [
      "\u001b[1;33m[Open3D WARNING] Read PLY failed: unable to read file: /home/navin/CGAL-5.6.1/examples/Shape_detection/circle_fit/circles_point_set_2.ply\u001b[0;m\n"
     ]
    },
    {
     "data": {
      "text/plain": [
       "' for color in unique_colors:\\n\\n    color_indices = np.where(np.all(colors == color, axis=1))[0]\\n    color_points = point_cloud.select_by_index(color_indices)\\n    color_points_np = color_points\\n    color_point_map[tuple(color)] = color_points_np\\n\\nfirst_color_points = color_point_map[tuple(unique_colors[0])]\\nprint(\"Points belonging to the first color:\", first_color_points)\\no3d.visualization.draw_geometries([first_color_points]) '"
      ]
     },
     "execution_count": 9,
     "metadata": {},
     "output_type": "execute_result"
    }
   ],
   "source": [
    "point_cloud = o3d.io.read_point_cloud(\"/home/navin/CGAL-5.6.1/examples/Shape_detection/mesh_fit/planes_polygon_mesh.ply\")\n",
    "o3d.visualization.draw_geometries([point_cloud])\n",
    "\n",
    "''' for color in unique_colors:\n",
    "\n",
    "    color_indices = np.where(np.all(colors == color, axis=1))[0]\n",
    "    color_points = point_cloud.select_by_index(color_indices)\n",
    "    color_points_np = color_points\n",
    "    color_point_map[tuple(color)] = color_points_np\n",
    "\n",
    "first_color_points = color_point_map[tuple(unique_colors[0])]\n",
    "print(\"Points belonging to the first color:\", first_color_points)\n",
    "o3d.visualization.draw_geometries([first_color_points]) '''"
   ]
  }
 ],
 "metadata": {
  "kernelspec": {
   "display_name": "Python 3",
   "language": "python",
   "name": "python3"
  },
  "language_info": {
   "codemirror_mode": {
    "name": "ipython",
    "version": 3
   },
   "file_extension": ".py",
   "mimetype": "text/x-python",
   "name": "python",
   "nbconvert_exporter": "python",
   "pygments_lexer": "ipython3",
   "version": "3.8.10"
  }
 },
 "nbformat": 4,
 "nbformat_minor": 2
}
